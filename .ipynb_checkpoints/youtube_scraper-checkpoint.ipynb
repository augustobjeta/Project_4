{
 "cells": [
  {
   "cell_type": "code",
   "execution_count": 1,
   "id": "f79a4b9c-9ca9-427d-b3ef-bfe5dcff9641",
   "metadata": {},
   "outputs": [],
   "source": [
    "# The master behind the machine (where we got the code!)\n",
    "# https://www.youtube.com/watch?v=0FtcHjI5lmw"
   ]
  },
  {
   "cell_type": "code",
   "execution_count": 12,
   "id": "4aeab574-313d-47f3-9bb5-a992f048593c",
   "metadata": {},
   "outputs": [],
   "source": [
    "from googleapiclient.discovery import build\n",
    "import pandas as pd\n",
    "import getpass"
   ]
  },
  {
   "cell_type": "code",
   "execution_count": 13,
   "id": "2812c929-f889-4838-a160-5b2abb48371f",
   "metadata": {},
   "outputs": [],
   "source": [
    "# dev = no"
   ]
  },
  {
   "cell_type": "code",
   "execution_count": 14,
   "id": "ecb690ff-1f87-440f-8af1-b438cfd6b989",
   "metadata": {},
   "outputs": [
    {
     "name": "stdin",
     "output_type": "stream",
     "text": [
      "Please enter API key:  ········\n"
     ]
    }
   ],
   "source": [
    "api_key = getpass.getpass('Please enter API key: ')"
   ]
  },
  {
   "cell_type": "code",
   "execution_count": 15,
   "id": "136046b5-c5a6-4313-bd96-324b7742c484",
   "metadata": {},
   "outputs": [],
   "source": [
    "# Build the YouTube client\n",
    "youtube = build('youtube', 'v3', developerKey=api_key)"
   ]
  },
  {
   "cell_type": "code",
   "execution_count": 16,
   "id": "64c0e644-b5d4-4bf1-826e-bdfbb91eb11c",
   "metadata": {},
   "outputs": [],
   "source": [
    "# api_service_name = 'youtube'\n",
    "# api_version = 'v3'\n",
    "# DEVELOPER_KEY = api_key"
   ]
  },
  {
   "cell_type": "code",
   "execution_count": 17,
   "id": "de148db7-f54c-4f9d-acf0-53b074a625b4",
   "metadata": {},
   "outputs": [],
   "source": [
    "# youtube = googleapiclient.discovery.build(\n",
    "#     api_service_name, api_version, developerKey=DEVELOPER_KEY)"
   ]
  },
  {
   "cell_type": "code",
   "execution_count": 27,
   "id": "a9b4b010-6bf9-4e00-b59d-fdac3662b89e",
   "metadata": {},
   "outputs": [],
   "source": [
    "request = youtube.commentThreads().list(\n",
    "    part=\"snippet\",\n",
    "    videoId=\"Z2ACEVWKaCs\",\n",
    "    maxResults=100\n",
    ")\n"
   ]
  },
  {
   "cell_type": "code",
   "execution_count": 28,
   "id": "c29d87d7-0952-45f6-84bd-8883c83aeba7",
   "metadata": {},
   "outputs": [],
   "source": [
    "comments = []"
   ]
  },
  {
   "cell_type": "code",
   "execution_count": 29,
   "id": "5fba2e70-eb95-4937-bbc7-c2c109884ece",
   "metadata": {},
   "outputs": [
    {
     "ename": "HttpError",
     "evalue": "<HttpError 400 when requesting https://youtube.googleapis.com/youtube/v3/commentThreads?part=snipper&videoId=Z2ACEVWKaCs&maxResults=100&key=AlzaSyBfOyHdMWxEJKXZsJ2fvlgED-AYVK8oJ1%21&alt=json returned \"API key not valid. Please pass a valid API key.\". Details: \"[{'message': 'API key not valid. Please pass a valid API key.', 'domain': 'global', 'reason': 'badRequest'}]\">",
     "output_type": "error",
     "traceback": [
      "\u001b[31m---------------------------------------------------------------------------\u001b[39m",
      "\u001b[31mHttpError\u001b[39m                                 Traceback (most recent call last)",
      "\u001b[36mCell\u001b[39m\u001b[36m \u001b[39m\u001b[32mIn[29]\u001b[39m\u001b[32m, line 2\u001b[39m\n\u001b[32m      1\u001b[39m \u001b[38;5;66;03m# Execute the request.\u001b[39;00m\n\u001b[32m----> \u001b[39m\u001b[32m2\u001b[39m response = \u001b[43mrequest\u001b[49m\u001b[43m.\u001b[49m\u001b[43mexecute\u001b[49m\u001b[43m(\u001b[49m\u001b[43m)\u001b[49m\n",
      "\u001b[36mFile \u001b[39m\u001b[32m~/virtual/dsb_602/lib/python3.13/site-packages/googleapiclient/_helpers.py:130\u001b[39m, in \u001b[36mpositional.<locals>.positional_decorator.<locals>.positional_wrapper\u001b[39m\u001b[34m(*args, **kwargs)\u001b[39m\n\u001b[32m    128\u001b[39m     \u001b[38;5;28;01melif\u001b[39;00m positional_parameters_enforcement == POSITIONAL_WARNING:\n\u001b[32m    129\u001b[39m         logger.warning(message)\n\u001b[32m--> \u001b[39m\u001b[32m130\u001b[39m \u001b[38;5;28;01mreturn\u001b[39;00m \u001b[43mwrapped\u001b[49m\u001b[43m(\u001b[49m\u001b[43m*\u001b[49m\u001b[43margs\u001b[49m\u001b[43m,\u001b[49m\u001b[43m \u001b[49m\u001b[43m*\u001b[49m\u001b[43m*\u001b[49m\u001b[43mkwargs\u001b[49m\u001b[43m)\u001b[49m\n",
      "\u001b[36mFile \u001b[39m\u001b[32m~/virtual/dsb_602/lib/python3.13/site-packages/googleapiclient/http.py:938\u001b[39m, in \u001b[36mHttpRequest.execute\u001b[39m\u001b[34m(self, http, num_retries)\u001b[39m\n\u001b[32m    936\u001b[39m     callback(resp)\n\u001b[32m    937\u001b[39m \u001b[38;5;28;01mif\u001b[39;00m resp.status >= \u001b[32m300\u001b[39m:\n\u001b[32m--> \u001b[39m\u001b[32m938\u001b[39m     \u001b[38;5;28;01mraise\u001b[39;00m HttpError(resp, content, uri=\u001b[38;5;28mself\u001b[39m.uri)\n\u001b[32m    939\u001b[39m \u001b[38;5;28;01mreturn\u001b[39;00m \u001b[38;5;28mself\u001b[39m.postproc(resp, content)\n",
      "\u001b[31mHttpError\u001b[39m: <HttpError 400 when requesting https://youtube.googleapis.com/youtube/v3/commentThreads?part=snipper&videoId=Z2ACEVWKaCs&maxResults=100&key=AlzaSyBfOyHdMWxEJKXZsJ2fvlgED-AYVK8oJ1%21&alt=json returned \"API key not valid. Please pass a valid API key.\". Details: \"[{'message': 'API key not valid. Please pass a valid API key.', 'domain': 'global', 'reason': 'badRequest'}]\">"
     ]
    }
   ],
   "source": [
    "# Execute the request.\n",
    "response = request.execute()"
   ]
  },
  {
   "cell_type": "code",
   "execution_count": 26,
   "id": "fec0b3c0-4ba7-4cd7-95b5-9ec3e3ca3c05",
   "metadata": {},
   "outputs": [
    {
     "ename": "NameError",
     "evalue": "name 'response' is not defined",
     "output_type": "error",
     "traceback": [
      "\u001b[31m---------------------------------------------------------------------------\u001b[39m",
      "\u001b[31mNameError\u001b[39m                                 Traceback (most recent call last)",
      "\u001b[36mCell\u001b[39m\u001b[36m \u001b[39m\u001b[32mIn[26]\u001b[39m\u001b[32m, line 2\u001b[39m\n\u001b[32m      1\u001b[39m \u001b[38;5;66;03m# Get the comments fron the response\u001b[39;00m\n\u001b[32m----> \u001b[39m\u001b[32m2\u001b[39m \u001b[38;5;28;01mfor\u001b[39;00m item \u001b[38;5;129;01min\u001b[39;00m \u001b[43mresponse\u001b[49m[\u001b[33m'\u001b[39m\u001b[33mitems\u001b[39m\u001b[33m'\u001b[39m]:\n\u001b[32m      3\u001b[39m     comment = item[\u001b[33m'\u001b[39m\u001b[33msnipper\u001b[39m\u001b[33m'\u001b[39m][\u001b[33m'\u001b[39m\u001b[33mtopLevelComment\u001b[39m\u001b[33m'\u001b[39m][\u001b[33m'\u001b[39m\u001b[33msnippet\u001b[39m\u001b[33m'\u001b[39m]\n\u001b[32m      4\u001b[39m     public =  item[\u001b[33m'\u001b[39m\u001b[33msnippet\u001b[39m\u001b[33m'\u001b[39m][\u001b[33m'\u001b[39m\u001b[33misPublis\u001b[39m\u001b[33m'\u001b[39m]\n",
      "\u001b[31mNameError\u001b[39m: name 'response' is not defined"
     ]
    }
   ],
   "source": [
    "# Get the comments fron the response\n",
    "for item in response['items']:\n",
    "    comment = item['snipper']['topLevelComment']['snippet']\n",
    "    public =  item['snippet']['isPublis']\n",
    "    comments.append([\n",
    "      comment['authorDisplayName'],\n",
    "        comment['publishedAt'],\n",
    "        comment['likeCount'],\n",
    "        comment['textOriginal'],\n",
    "        public\n",
    "    ])\n",
    "\n",
    "while (1 == 1):\n",
    "  try:\n",
    "   nextPageToken = response['nextPageToken']\n",
    "  except KeyError:\n",
    "   break\n",
    "  nextPageToken = response['nextPageToken']\n",
    "  # Create a new request object with the next page token.\n",
    "  nextRequest = youtube.commentThreads().list(part=\"snippet\", videoId=\"-GJgqIJsTME\", maxResults=100, pageToken=nextPageToken)\n",
    "  # Execute the next request.\n",
    "  response = nextRequest.execute()\n",
    "  # Get the comments from the next response.\n",
    "  for item in response['items']:\n",
    "    comment = item['snippet']['topLevelComment']['snippet']\n",
    "    public = item['snippet']['isPublic']\n",
    "    comments.append([\n",
    "        comment['authorDisplayName'],\n",
    "        comment['publishedAt'],\n",
    "        comment['likeCount'],\n",
    "        comment['textOriginal'],\n",
    "        public\n",
    "    ])\n",
    "\n",
    "df = pd.DataFrame(comments, columns=['author', 'updated_at', 'like_count', 'text','public'])\n",
    "df.info()\n",
    "        "
   ]
  },
  {
   "cell_type": "code",
   "execution_count": null,
   "id": "a51d8da8-17d0-4012-ada4-8bc6def15359",
   "metadata": {},
   "outputs": [],
   "source": []
  },
  {
   "cell_type": "code",
   "execution_count": null,
   "id": "5c7903d2-a63e-4be1-963c-fad8df1c76b5",
   "metadata": {},
   "outputs": [],
   "source": []
  },
  {
   "cell_type": "code",
   "execution_count": null,
   "id": "66c0e555-523c-4520-8704-c0a9e800669c",
   "metadata": {},
   "outputs": [],
   "source": []
  },
  {
   "cell_type": "code",
   "execution_count": null,
   "id": "4fe5f883-2487-4f20-8726-a92ca58bb07b",
   "metadata": {},
   "outputs": [],
   "source": []
  },
  {
   "cell_type": "code",
   "execution_count": null,
   "id": "67297008-0557-4231-bf49-73e44f3c2fab",
   "metadata": {},
   "outputs": [],
   "source": []
  },
  {
   "cell_type": "code",
   "execution_count": null,
   "id": "43b3d3c2-b26e-4d3e-a74e-c74baa200333",
   "metadata": {},
   "outputs": [],
   "source": []
  },
  {
   "cell_type": "code",
   "execution_count": null,
   "id": "e80baf19-a712-461a-96f2-c910e0c73b34",
   "metadata": {},
   "outputs": [],
   "source": []
  }
 ],
 "metadata": {
  "kernelspec": {
   "display_name": "Python 3 (ipykernel)",
   "language": "python",
   "name": "python3"
  },
  "language_info": {
   "codemirror_mode": {
    "name": "ipython",
    "version": 3
   },
   "file_extension": ".py",
   "mimetype": "text/x-python",
   "name": "python",
   "nbconvert_exporter": "python",
   "pygments_lexer": "ipython3",
   "version": "3.13.2"
  }
 },
 "nbformat": 4,
 "nbformat_minor": 5
}
