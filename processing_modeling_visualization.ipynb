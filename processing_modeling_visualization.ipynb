{
 "cells": [
  {
   "cell_type": "code",
   "execution_count": 199,
   "id": "0dcdf02d-e614-4e4d-ad98-0147db316335",
   "metadata": {},
   "outputs": [],
   "source": [
    "import pandas as pd\n",
    "import numpy as np\n",
    "import matplotlib.pyplot as plt\n",
    "import seaborn as sns\n",
    "from vaderSentiment.vaderSentiment import SentimentIntensityAnalyzer\n",
    "from transformers import pipeline"
   ]
  },
  {
   "cell_type": "code",
   "execution_count": 17,
   "id": "e95ec0c4-6d02-43c2-886a-c3c3bd659f7f",
   "metadata": {},
   "outputs": [],
   "source": [
    "analyzer = SentimentIntensityAnalyzer()"
   ]
  },
  {
   "cell_type": "markdown",
   "id": "895b4bbb-1e50-4b46-9204-cbc0cae400ae",
   "metadata": {},
   "source": [
    "***VADER (Valence Aware Dictionary for sEntiment Reasoning)***\n",
    "\n",
    "Best suited for: Social media posts, YouTube comments, and other informal or short-form text.\n",
    "\n",
    "**Pros:**\n",
    "1. Extremely fast and lightweight\n",
    "2. Built into the NLTK library\n",
    "3. Handles slang, emojis, punctuation, and capitalization effectively\n",
    "\n",
    "**Cons:** \n",
    "- Lexicon-based approach limits its ability to understand sarcasm, irony, or complex contextual nuance\n",
    "- Classifies comments in foreign languages as neutral\n",
    "\n",
    "**How it works:**\n",
    "VADER assigns each comment a compound sentiment score ranging from -1 (most negative) to +1 (most positive). \n",
    "\n",
    "**Interpretation:**\n",
    "- Positive sentiment: score > 0.05\n",
    "- Negative sentiment: score < -0.05\n",
    "- Neutral sentiment: between -0.05 and 0.05\n",
    "\n",
    "Higher absolute values indicate stronger sentiment intensity."
   ]
  },
  {
   "cell_type": "markdown",
   "id": "8391b7af-1d68-4e41-9d2f-1bbb5f7c3bd5",
   "metadata": {},
   "source": [
    "### DataFrame Processing Function"
   ]
  },
  {
   "cell_type": "code",
   "execution_count": null,
   "id": "8870f1ad-86b0-41d8-8fc6-560912c4ce5f",
   "metadata": {},
   "outputs": [],
   "source": [
    "def data_processor(df1, df2):\n",
    "    # Concatenating dataframes and only keeping 1 top-level comment per user (no replies)\n",
    "    df = pd.concat([df1, df2], ignore_index=True)\n",
    "    df = df.drop_duplicates(subset=['Comment'])\n",
    "    df = df.drop_duplicates(subset=['Username'])\n",
    "\n",
    "    # Dropping nulls\n",
    "    df = df.dropna()\n",
    "\n",
    "    # Changing timestamp object type to Datetime\n",
    "    df['timestamp'] = pd.to_datetime(df['Timestamp'])\n",
    "    \n",
    "    # Filter for May 1 - Nov 4, 2016\n",
    "    mask = (df['timestamp'] >= '2016-05-01') & (df['timestamp'] <= '2016-11-04')\n",
    "    df = df.loc[mask].copy()\n",
    "\n",
    "    # Applying SentimentIntensityAnalyzer\n",
    "    df['sentiment'] = df['Comment'].apply(lambda x: analyzer.polarity_scores(x)['compound'])\n",
    "    df['sentiment_label'] = df['sentiment'].apply(lambda x: 'Positive' if x > 0.05 else 'Negative' if x < -0.05 else 'Neutral')\n",
    "\n",
    "    df = df.drop(columns = ['Username', 'VideoID', 'Date', 'Timestamp'], axis=1)\n",
    "\n",
    "    return df"
   ]
  },
  {
   "cell_type": "markdown",
   "id": "4f1e15aa-3206-430f-95a7-3549ef02b05d",
   "metadata": {},
   "source": [
    "***Data Collection Challenges***\n",
    "Our initial plan was to scrape data from Twitter and Reddit. However, several limitations led us to reconsider:\n",
    "\n",
    "**Twitter:**\n",
    "    - Access to the Twitter API has become prohibitively expensive, making large-scale data collection unfeasible for this project.\n",
    "\n",
    "**Reddit:**\n",
    "- The two main Reddit APIs have significant constraints:\n",
    "  - PRAW (Python Reddit API Wrapper) is still functional but only supports scraping from the top, hot, and new posts. It does not allow filtering by custom timeframes and has a hard limit of 1,000 posts per query.\n",
    "  - Pushshift, which previously allowed time-based filtering and more flexible querying, has been offline since 2023, making it unavailable for use.\n",
    "\n",
    "**Final Approach – YouTube:**\n",
    "- Due to these limitations, we shifted our focus to YouTube comments, which offered an accessible and rich source of user-generated content. This allowed us to collect timely political discourse data with fewer restrictions on volume or timeframe."
   ]
  },
  {
   "cell_type": "markdown",
   "id": "d20c322c-5ea8-401f-8633-05d0eb191255",
   "metadata": {},
   "source": [
    "### Data Exploration"
   ]
  },
  {
   "cell_type": "markdown",
   "id": "d222a65a-fe8c-4435-b9e0-ca5c44c72c4a",
   "metadata": {},
   "source": [
    "***Donald Trump & the Republican Party***"
   ]
  },
  {
   "cell_type": "code",
   "execution_count": 141,
   "id": "1b8d2297-a5c9-46a8-b16d-3d882eff739e",
   "metadata": {},
   "outputs": [],
   "source": [
    "trump_df = pd.read_csv('./trump_comments2.csv')\n",
    "rep_df = pd.read_csv('./Rep_debate_comments2.csv')"
   ]
  },
  {
   "cell_type": "code",
   "execution_count": 143,
   "id": "ff36b00c-926c-4c63-b197-f80d6933471e",
   "metadata": {},
   "outputs": [
    {
     "data": {
      "text/plain": [
       "Timestamp    0\n",
       "Username     3\n",
       "VideoID      0\n",
       "Comment      0\n",
       "Date         0\n",
       "dtype: int64"
      ]
     },
     "execution_count": 143,
     "metadata": {},
     "output_type": "execute_result"
    }
   ],
   "source": [
    "trump_df.isnull().sum()"
   ]
  },
  {
   "cell_type": "code",
   "execution_count": 145,
   "id": "47adf4de-b64d-4632-b586-697501495399",
   "metadata": {},
   "outputs": [
    {
     "data": {
      "text/plain": [
       "Timestamp    0\n",
       "Username     9\n",
       "VideoID      0\n",
       "Comment      2\n",
       "Date         0\n",
       "dtype: int64"
      ]
     },
     "execution_count": 145,
     "metadata": {},
     "output_type": "execute_result"
    }
   ],
   "source": [
    "rep_df.isnull().sum()"
   ]
  },
  {
   "cell_type": "code",
   "execution_count": 147,
   "id": "46645fb8-be5c-40f2-81c3-b8e574cb9c46",
   "metadata": {},
   "outputs": [
    {
     "name": "stdout",
     "output_type": "stream",
     "text": [
      "<class 'pandas.core.frame.DataFrame'>\n",
      "RangeIndex: 2023 entries, 0 to 2022\n",
      "Data columns (total 5 columns):\n",
      " #   Column     Non-Null Count  Dtype \n",
      "---  ------     --------------  ----- \n",
      " 0   Timestamp  2023 non-null   object\n",
      " 1   Username   2020 non-null   object\n",
      " 2   VideoID    2023 non-null   object\n",
      " 3   Comment    2023 non-null   object\n",
      " 4   Date       2023 non-null   object\n",
      "dtypes: object(5)\n",
      "memory usage: 79.2+ KB\n"
     ]
    }
   ],
   "source": [
    "trump_df.info()"
   ]
  },
  {
   "cell_type": "markdown",
   "id": "00182473-6937-4e5d-a614-e0e7ff12a90a",
   "metadata": {},
   "source": [
    "***Hillary Clinton & the Democratic Party***"
   ]
  },
  {
   "cell_type": "code",
   "execution_count": 185,
   "id": "beb49207-1207-42a1-8320-0676816955ee",
   "metadata": {},
   "outputs": [],
   "source": [
    "hillary_df = pd.read_csv('./hillary_comments2.csv')\n",
    "dem_df = pd.read_csv('./Dem_debate_comments2.csv')"
   ]
  },
  {
   "cell_type": "code",
   "execution_count": 187,
   "id": "e5cace66-94d1-42de-a079-1e15c8f818e2",
   "metadata": {},
   "outputs": [
    {
     "data": {
      "text/plain": [
       "Timestamp    0\n",
       "Username     1\n",
       "VideoID      0\n",
       "Comment      0\n",
       "Date         0\n",
       "dtype: int64"
      ]
     },
     "execution_count": 187,
     "metadata": {},
     "output_type": "execute_result"
    }
   ],
   "source": [
    "hillary_df.isnull().sum()"
   ]
  },
  {
   "cell_type": "code",
   "execution_count": 189,
   "id": "0eedb96c-749a-4d30-a161-32004538e2aa",
   "metadata": {},
   "outputs": [
    {
     "data": {
      "text/plain": [
       "Timestamp     0\n",
       "Username     39\n",
       "VideoID       0\n",
       "Comment       9\n",
       "Date          0\n",
       "dtype: int64"
      ]
     },
     "execution_count": 189,
     "metadata": {},
     "output_type": "execute_result"
    }
   ],
   "source": [
    "dem_df.isnull().sum()"
   ]
  },
  {
   "cell_type": "markdown",
   "id": "3b0e946a-de58-47a6-ae95-a55bbd4c73fa",
   "metadata": {},
   "source": [
    "***Data Concatenation, Processing, and Sentiment Analysis***"
   ]
  },
  {
   "cell_type": "code",
   "execution_count": 149,
   "id": "495d8627-618d-4f15-9c3e-cf0c6b5093aa",
   "metadata": {},
   "outputs": [],
   "source": [
    "# Processing comments from Donald Trump's 2016 campaign and Republican Party debate videos \n",
    "\n",
    "gop_df = data_processor(trump_df, rep_df)"
   ]
  },
  {
   "cell_type": "code",
   "execution_count": 151,
   "id": "dbf5866d-4034-43cc-9888-dae8d707c581",
   "metadata": {},
   "outputs": [
    {
     "data": {
      "text/plain": [
       "(1614, 4)"
      ]
     },
     "execution_count": 151,
     "metadata": {},
     "output_type": "execute_result"
    }
   ],
   "source": [
    "gop_df.shape"
   ]
  },
  {
   "cell_type": "code",
   "execution_count": 153,
   "id": "94940a51-15d5-4eae-a794-d64c0c767973",
   "metadata": {},
   "outputs": [
    {
     "data": {
      "text/html": [
       "<div>\n",
       "<style scoped>\n",
       "    .dataframe tbody tr th:only-of-type {\n",
       "        vertical-align: middle;\n",
       "    }\n",
       "\n",
       "    .dataframe tbody tr th {\n",
       "        vertical-align: top;\n",
       "    }\n",
       "\n",
       "    .dataframe thead th {\n",
       "        text-align: right;\n",
       "    }\n",
       "</style>\n",
       "<table border=\"1\" class=\"dataframe\">\n",
       "  <thead>\n",
       "    <tr style=\"text-align: right;\">\n",
       "      <th></th>\n",
       "      <th>Comment</th>\n",
       "      <th>timestamp</th>\n",
       "      <th>sentiment</th>\n",
       "      <th>sentiment_label</th>\n",
       "    </tr>\n",
       "  </thead>\n",
       "  <tbody>\n",
       "    <tr>\n",
       "      <th>464</th>\n",
       "      <td>I totally support and endorse Donald.</td>\n",
       "      <td>2016-06-25 10:54:46+00:00</td>\n",
       "      <td>0.6764</td>\n",
       "      <td>Positive</td>\n",
       "    </tr>\n",
       "    <tr>\n",
       "      <th>465</th>\n",
       "      <td>Is that Tito Ortiz from the UFC next to the la...</td>\n",
       "      <td>2016-06-07 21:11:38+00:00</td>\n",
       "      <td>0.5984</td>\n",
       "      <td>Positive</td>\n",
       "    </tr>\n",
       "    <tr>\n",
       "      <th>466</th>\n",
       "      <td>I actually can't watch this, first 20 minutes ...</td>\n",
       "      <td>2016-05-31 14:22:36+00:00</td>\n",
       "      <td>0.7506</td>\n",
       "      <td>Positive</td>\n",
       "    </tr>\n",
       "    <tr>\n",
       "      <th>467</th>\n",
       "      <td>he is a coward</td>\n",
       "      <td>2016-05-31 08:16:06+00:00</td>\n",
       "      <td>-0.4588</td>\n",
       "      <td>Negative</td>\n",
       "    </tr>\n",
       "    <tr>\n",
       "      <th>468</th>\n",
       "      <td>😴😴😴</td>\n",
       "      <td>2016-05-31 05:53:00+00:00</td>\n",
       "      <td>0.0000</td>\n",
       "      <td>Neutral</td>\n",
       "    </tr>\n",
       "  </tbody>\n",
       "</table>\n",
       "</div>"
      ],
      "text/plain": [
       "                                               Comment  \\\n",
       "464              I totally support and endorse Donald.   \n",
       "465  Is that Tito Ortiz from the UFC next to the la...   \n",
       "466  I actually can't watch this, first 20 minutes ...   \n",
       "467                                     he is a coward   \n",
       "468                                                😴😴😴   \n",
       "\n",
       "                    timestamp  sentiment sentiment_label  \n",
       "464 2016-06-25 10:54:46+00:00     0.6764        Positive  \n",
       "465 2016-06-07 21:11:38+00:00     0.5984        Positive  \n",
       "466 2016-05-31 14:22:36+00:00     0.7506        Positive  \n",
       "467 2016-05-31 08:16:06+00:00    -0.4588        Negative  \n",
       "468 2016-05-31 05:53:00+00:00     0.0000         Neutral  "
      ]
     },
     "execution_count": 153,
     "metadata": {},
     "output_type": "execute_result"
    }
   ],
   "source": [
    "gop_df.head()"
   ]
  },
  {
   "cell_type": "code",
   "execution_count": 155,
   "id": "911ebae2-b010-44da-b330-057fbca0748b",
   "metadata": {},
   "outputs": [
    {
     "data": {
      "text/plain": [
       "0.039240768277571246"
      ]
     },
     "execution_count": 155,
     "metadata": {},
     "output_type": "execute_result"
    }
   ],
   "source": [
    "gop_df['sentiment'].mean()"
   ]
  },
  {
   "cell_type": "code",
   "execution_count": 191,
   "id": "611d3fc3-f068-4aa3-af7b-902e43806218",
   "metadata": {},
   "outputs": [],
   "source": [
    "gop_df.to_csv('rep_df_cleaned.csv')"
   ]
  },
  {
   "cell_type": "code",
   "execution_count": null,
   "id": "d4df5006-2d9f-4dc6-a30a-fc46ff4c7d43",
   "metadata": {},
   "outputs": [],
   "source": []
  },
  {
   "cell_type": "code",
   "execution_count": 98,
   "id": "89528d87-48cc-42a0-8570-68c180359180",
   "metadata": {},
   "outputs": [],
   "source": [
    "# Processing comment from Hillary Clinton's 2016 campaign and Democratic Party debate video \n",
    "\n",
    "blue_df = data_processor(hillary_df, dem_df)"
   ]
  },
  {
   "cell_type": "code",
   "execution_count": 99,
   "id": "2aa1918c-54af-41ce-bbe8-9e741c522193",
   "metadata": {},
   "outputs": [
    {
     "data": {
      "text/plain": [
       "(30269, 4)"
      ]
     },
     "execution_count": 99,
     "metadata": {},
     "output_type": "execute_result"
    }
   ],
   "source": [
    "blue_df.shape"
   ]
  },
  {
   "cell_type": "markdown",
   "id": "1709e6f5-060e-471d-bf78-a257fcdd6077",
   "metadata": {},
   "source": [
    "***Observation***: Number of observations differed greatly. After data cleaning, there were 30,269 total observations for the democratic dataframe, and there were only 1,614 total observations for the republican dataframe."
   ]
  },
  {
   "cell_type": "code",
   "execution_count": 102,
   "id": "c8a56a49-672a-400e-88b2-41637366e53c",
   "metadata": {},
   "outputs": [
    {
     "data": {
      "text/html": [
       "<div>\n",
       "<style scoped>\n",
       "    .dataframe tbody tr th:only-of-type {\n",
       "        vertical-align: middle;\n",
       "    }\n",
       "\n",
       "    .dataframe tbody tr th {\n",
       "        vertical-align: top;\n",
       "    }\n",
       "\n",
       "    .dataframe thead th {\n",
       "        text-align: right;\n",
       "    }\n",
       "</style>\n",
       "<table border=\"1\" class=\"dataframe\">\n",
       "  <thead>\n",
       "    <tr style=\"text-align: right;\">\n",
       "      <th></th>\n",
       "      <th>Comment</th>\n",
       "      <th>timestamp</th>\n",
       "      <th>sentiment</th>\n",
       "      <th>sentiment_label</th>\n",
       "    </tr>\n",
       "  </thead>\n",
       "  <tbody>\n",
       "    <tr>\n",
       "      <th>21</th>\n",
       "      <td>www.infowars.com</td>\n",
       "      <td>2016-10-25 21:47:05+00:00</td>\n",
       "      <td>0.0000</td>\n",
       "      <td>Neutral</td>\n",
       "    </tr>\n",
       "    <tr>\n",
       "      <th>22</th>\n",
       "      <td>She's so full of shit.</td>\n",
       "      <td>2016-10-20 03:25:18+00:00</td>\n",
       "      <td>-0.5945</td>\n",
       "      <td>Negative</td>\n",
       "    </tr>\n",
       "    <tr>\n",
       "      <th>23</th>\n",
       "      <td>Empty promises and emotional rhetoric to persu...</td>\n",
       "      <td>2016-10-19 11:48:47+00:00</td>\n",
       "      <td>0.9325</td>\n",
       "      <td>Positive</td>\n",
       "    </tr>\n",
       "    <tr>\n",
       "      <th>24</th>\n",
       "      <td>Black live matter Hillary say so, then what ab...</td>\n",
       "      <td>2016-10-19 03:20:58+00:00</td>\n",
       "      <td>0.2845</td>\n",
       "      <td>Positive</td>\n",
       "    </tr>\n",
       "    <tr>\n",
       "      <th>25</th>\n",
       "      <td>She cheated Bernie out of nomination.</td>\n",
       "      <td>2016-10-19 01:25:36+00:00</td>\n",
       "      <td>-0.5106</td>\n",
       "      <td>Negative</td>\n",
       "    </tr>\n",
       "  </tbody>\n",
       "</table>\n",
       "</div>"
      ],
      "text/plain": [
       "                                              Comment  \\\n",
       "21                                   www.infowars.com   \n",
       "22                             She's so full of shit.   \n",
       "23  Empty promises and emotional rhetoric to persu...   \n",
       "24  Black live matter Hillary say so, then what ab...   \n",
       "25              She cheated Bernie out of nomination.   \n",
       "\n",
       "                   timestamp  sentiment sentiment_label  \n",
       "21 2016-10-25 21:47:05+00:00     0.0000         Neutral  \n",
       "22 2016-10-20 03:25:18+00:00    -0.5945        Negative  \n",
       "23 2016-10-19 11:48:47+00:00     0.9325        Positive  \n",
       "24 2016-10-19 03:20:58+00:00     0.2845        Positive  \n",
       "25 2016-10-19 01:25:36+00:00    -0.5106        Negative  "
      ]
     },
     "execution_count": 102,
     "metadata": {},
     "output_type": "execute_result"
    }
   ],
   "source": [
    "blue_df.head()"
   ]
  },
  {
   "cell_type": "code",
   "execution_count": 104,
   "id": "01822d8a-1cd1-4cda-965b-2105f7d2474e",
   "metadata": {},
   "outputs": [
    {
     "data": {
      "text/plain": [
       "0.010644801612210512"
      ]
     },
     "execution_count": 104,
     "metadata": {},
     "output_type": "execute_result"
    }
   ],
   "source": [
    "blue_df['sentiment'].mean()"
   ]
  },
  {
   "cell_type": "code",
   "execution_count": 195,
   "id": "47f8ce49-d908-4432-9204-aab1c6c441ee",
   "metadata": {},
   "outputs": [],
   "source": [
    "blue_df.to_csv('dem_df_cleaned.csv')"
   ]
  },
  {
   "cell_type": "markdown",
   "id": "abe626ed-08ef-4905-a326-ac75f3770253",
   "metadata": {},
   "source": [
    "***Data Cleaning and Processing Observations***\n",
    "\n",
    "**Deduplication:** Retained only one comment per user to reduce repetition and bias in sentiment distribution. Many users also reposted the same or similar comments, leading to a high volume of duplicates that require removal or consolidation. **Thread Misuse:** Replies are often posted as new top-level comments rather than nested replies, disrupting the natural conversational flow.\n"
   ]
  },
  {
   "cell_type": "markdown",
   "id": "93828ab8-ed6b-4e42-b013-f931851e0f86",
   "metadata": {},
   "source": [
    "### Visualization"
   ]
  },
  {
   "cell_type": "code",
   "execution_count": 430,
   "id": "4fad2106-0f60-4dd0-8edf-75281a34d789",
   "metadata": {},
   "outputs": [
    {
     "name": "stderr",
     "output_type": "stream",
     "text": [
      "/var/folders/8l/y9q9c3j921xbnzrzd15zxy040000gn/T/ipykernel_8616/2087313627.py:21: FutureWarning: \n",
      "\n",
      "Passing `palette` without assigning `hue` is deprecated and will be removed in v0.14.0. Assign the `x` variable to `hue` and set `legend=False` for the same effect.\n",
      "\n",
      "  sns.barplot(data=gop_norm, x='sentiment_label', y='proportion',\n",
      "/var/folders/8l/y9q9c3j921xbnzrzd15zxy040000gn/T/ipykernel_8616/2087313627.py:30: FutureWarning: \n",
      "\n",
      "Passing `palette` without assigning `hue` is deprecated and will be removed in v0.14.0. Assign the `x` variable to `hue` and set `legend=False` for the same effect.\n",
      "\n",
      "  sns.barplot(data=blue_norm, x='sentiment_label', y='proportion',\n"
     ]
    },
    {
     "data": {
      "image/png": "[encoded data removed]",
      "text/plain": [
       "<Figure size 1200x500 with 2 Axes>"
      ]
     },
     "metadata": {},
     "output_type": "display_data"
    }
   ],
   "source": [
    "# Custom palettes\n",
    "republican_palette = {'Positive': '#d62728', 'Neutral': '#ff9896', 'Negative': '#8c564b'}\n",
    "democratic_palette = {'Positive': '#1f77b4', 'Neutral': '#aec7e8', 'Negative': '#17becf'}\n",
    "\n",
    "# Function to compute normalized proportions\n",
    "def get_normalized_df(df):\n",
    "    proportions = df['sentiment_label'].value_counts(normalize=True)\n",
    "    return pd.DataFrame({\n",
    "        'sentiment_label': proportions.index,\n",
    "        'proportion': proportions.values\n",
    "    })\n",
    "\n",
    "# Prepare normalized data\n",
    "gop_norm = get_normalized_df(gop_df)\n",
    "blue_norm = get_normalized_df(blue_df)\n",
    "\n",
    "# Create side-by-side plots\n",
    "fig, axes = plt.subplots(1, 2, figsize=(12, 5), sharey=True)\n",
    "\n",
    "# Republican plot\n",
    "sns.barplot(data=gop_norm, x='sentiment_label', y='proportion',\n",
    "            palette=republican_palette, ax=axes[0])\n",
    "axes[0].set_title(\"Republican Party - Sentiment Proportions\")\n",
    "axes[0].set_xlabel(\"Sentiment Label\")\n",
    "axes[0].set_ylabel(\"\")  # Remove y-axis label\n",
    "axes[0].set_ylim(0, 1)\n",
    "axes[0].grid(True, axis='y')\n",
    "\n",
    "# Democratic plot\n",
    "sns.barplot(data=blue_norm, x='sentiment_label', y='proportion',\n",
    "            palette=democratic_palette, ax=axes[1])\n",
    "axes[1].set_title(\"Democratic Party - Sentiment Proportions\")\n",
    "axes[1].set_xlabel(\"Sentiment Label\")\n",
    "axes[1].set_ylabel(\"\")  # Remove y-axis label\n",
    "axes[1].set_ylim(0, 1)\n",
    "axes[1].grid(True, axis='y')\n",
    "\n",
    "plt.tight_layout()\n",
    "plt.savefig('./visuals/sentiment_proportions.jpg')\n",
    "\n",
    "plt.show()"
   ]
  },
  {
   "cell_type": "code",
   "execution_count": 215,
   "id": "d785f32a-c2a8-4cdd-b963-960e374ac65c",
   "metadata": {},
   "outputs": [
    {
     "data": {
      "text/html": [
       "<div>\n",
       "<style scoped>\n",
       "    .dataframe tbody tr th:only-of-type {\n",
       "        vertical-align: middle;\n",
       "    }\n",
       "\n",
       "    .dataframe tbody tr th {\n",
       "        vertical-align: top;\n",
       "    }\n",
       "\n",
       "    .dataframe thead th {\n",
       "        text-align: right;\n",
       "    }\n",
       "</style>\n",
       "<table border=\"1\" class=\"dataframe\">\n",
       "  <thead>\n",
       "    <tr style=\"text-align: right;\">\n",
       "      <th></th>\n",
       "      <th>Republican</th>\n",
       "      <th>Democratic</th>\n",
       "    </tr>\n",
       "    <tr>\n",
       "      <th>sentiment_label</th>\n",
       "      <th></th>\n",
       "      <th></th>\n",
       "    </tr>\n",
       "  </thead>\n",
       "  <tbody>\n",
       "    <tr>\n",
       "      <th>Positive</th>\n",
       "      <td>0.428748</td>\n",
       "      <td>0.379332</td>\n",
       "    </tr>\n",
       "    <tr>\n",
       "      <th>Neutral</th>\n",
       "      <td>0.221809</td>\n",
       "      <td>0.258680</td>\n",
       "    </tr>\n",
       "    <tr>\n",
       "      <th>Negative</th>\n",
       "      <td>0.349442</td>\n",
       "      <td>0.361988</td>\n",
       "    </tr>\n",
       "  </tbody>\n",
       "</table>\n",
       "</div>"
      ],
      "text/plain": [
       "                 Republican  Democratic\n",
       "sentiment_label                        \n",
       "Positive           0.428748    0.379332\n",
       "Neutral            0.221809    0.258680\n",
       "Negative           0.349442    0.361988"
      ]
     },
     "execution_count": 215,
     "metadata": {},
     "output_type": "execute_result"
    }
   ],
   "source": [
    "# Get normalized proportions\n",
    "gop_props = gop_df['sentiment_label'].value_counts(normalize=True)\n",
    "blue_props = blue_df['sentiment_label'].value_counts(normalize=True)\n",
    "\n",
    "# Combine into a single DataFrame\n",
    "comparison_df = pd.DataFrame({\n",
    "    'Republican': gop_props,\n",
    "    'Democratic': blue_props\n",
    "}).fillna(0)  # fill missing sentiments with 0 if one side lacks it\n",
    "\n",
    "# Optional: sort for consistency\n",
    "comparison_df = comparison_df.reindex(['Positive', 'Neutral', 'Negative'])\n",
    "\n",
    "comparison_df"
   ]
  },
  {
   "cell_type": "markdown",
   "id": "c7c6797b-b973-4f28-a0c9-a9f8db0c4572",
   "metadata": {},
   "source": [
    "***Left Chart: Republican Party – Sentiment Proportions***\n",
    "\n",
    "- **Positive (~43%):** The highest proportion of comments fall into the positive category, suggesting a relatively favorable tone among commenters.\n",
    "- **Negative (~35%):** A significant portion still expresses negativity.\n",
    "- **Neutral (~22%):** The smallest proportion; relatively fewer comments are neutral in tone.\n",
    "\n",
    "**Colors:** Red shades are used to represent Republican sentiment:\n",
    "- Deep red = positive\n",
    "- Brown = negative\n",
    "- Light red/pink = neutral\n",
    "\n",
    "***Right Chart: Democratic Party – Sentiment Proportions***\n",
    "- **Positive (~38%) and Negative (~36%):** These are nearly equal, indicating a more polarized or mixed sentiment among commenters.\n",
    "- **Neutral (~26%):** Slightly higher than in the Republican chart.\n",
    "\n",
    "**Colors:** Blue shades are used for Democratic sentiment:\n",
    "- Dark blue = positive\n",
    "- Teal = negative\n",
    "- Light blue = neutral\n",
    "\n",
    "**Interpretation**\n",
    "- Republican comments skew more positive, with a clearer margin over negative and neutral.\n",
    "- Democratic comments are more balanced between positive and negative, reflecting mixed or divided sentiment.\n",
    "- Both parties have relatively low neutral sentiment, indicating that most commenters express clear opinions rather than ambivalence."
   ]
  },
  {
   "cell_type": "code",
   "execution_count": 432,
   "id": "423fbebc-34fa-42b3-99f2-76f5daf10873",
   "metadata": {},
   "outputs": [
    {
     "name": "stderr",
     "output_type": "stream",
     "text": [
      "/var/folders/8l/y9q9c3j921xbnzrzd15zxy040000gn/T/ipykernel_8616/4238343236.py:2: UserWarning: Converting to PeriodArray/Index representation will drop timezone information.\n",
      "  gop_df['year_month'] = gop_df['timestamp'].dt.to_period('M').astype(str)\n",
      "/var/folders/8l/y9q9c3j921xbnzrzd15zxy040000gn/T/ipykernel_8616/4238343236.py:3: UserWarning: Converting to PeriodArray/Index representation will drop timezone information.\n",
      "  blue_df['year_month'] = blue_df['timestamp'].dt.to_period('M').astype(str)\n"
     ]
    },
    {
     "data": {
      "image/png": "[encoded data removed]",
      "text/plain": [
       "<Figure size 1400x500 with 2 Axes>"
      ]
     },
     "metadata": {},
     "output_type": "display_data"
    }
   ],
   "source": [
    "# Create year-month column\n",
    "gop_df['year_month'] = gop_df['timestamp'].dt.to_period('M').astype(str)\n",
    "blue_df['year_month'] = blue_df['timestamp'].dt.to_period('M').astype(str)\n",
    "\n",
    "# Group by year-month and calculate mean sentiment\n",
    "gop_monthly_avg = gop_df.groupby('year_month')['sentiment'].mean().sort_index()\n",
    "blue_monthly_avg = blue_df.groupby('year_month')['sentiment'].mean().sort_index()\n",
    "\n",
    "# Plot side by side\n",
    "fig, axes = plt.subplots(1, 2, figsize=(14, 5), sharey=True)\n",
    "\n",
    "# Republican plot (red)\n",
    "axes[0].plot(gop_monthly_avg.index, gop_monthly_avg.values, marker='o', color='red')\n",
    "axes[0].set_title('Republican - Avg Sentiment per Month (May–Oct 2016)')\n",
    "axes[0].set_xlabel('Month')\n",
    "axes[0].set_ylabel('Average Sentiment Score')\n",
    "axes[0].tick_params(axis='x', rotation=45)\n",
    "axes[0].grid(True)\n",
    "\n",
    "# Democratic plot (blue)\n",
    "axes[1].plot(blue_monthly_avg.index, blue_monthly_avg.values, marker='o', color='blue')\n",
    "axes[1].set_title('Democratic - Avg Sentiment per Month (May–Oct 2016)')\n",
    "axes[1].set_xlabel('Month')\n",
    "axes[1].tick_params(axis='x', rotation=45)\n",
    "axes[1].grid(True)\n",
    "\n",
    "plt.tight_layout()\n",
    "\n",
    "plt.savefig('./visuals/monthly_sentiment.jpg')\n",
    "plt.show()"
   ]
  },
  {
   "cell_type": "markdown",
   "id": "d5ce4edd-0fa0-496b-bc69-e184232459f2",
   "metadata": {},
   "source": [
    "**Left Plot: Republican – Avg Sentiment per Month**\n",
    "- **May & June:** High positive sentiment (above 0.10), peaking in June.\n",
    "- **July–August:** Sentiment drops sharply, reaching a low in August (around -0.07), indicating a negative shift in public opinion.\n",
    "- **September–October:** Sentiment rebounds to moderately positive levels.\n",
    "- **November:** Drops again into negative territory just before or during the election.\n",
    "\n",
    "**Interpretation:**\n",
    "- Sentiment was volatile, with sharp up-and-down swings.\n",
    "- Despite some high points, sentiment was negative twice, suggesting moments of public criticism or controversy around the Republican candidate.\n",
    "\n",
    "**Right Plot: Democratic – Avg Sentiment per Month**\n",
    "- **Overall Range:** Sentiment stayed below neutral (0) for most months.\n",
    "- **July:** Reaches the lowest point (~ -0.07), possibly reflecting reactions to the DNC or controversies.\n",
    "- **September:** Brief uptick into slightly positive territory, then a gradual decline again into negative by November.\n",
    "\n",
    "**Interpretation:**\n",
    "- Sentiment remained consistently low or negative, with no strong positive peak like the Republican trend had.\n",
    "- The Democratic sentiment trend was less volatile but generally more negative on average.\n",
    "\n",
    "**Overall Insight**\n",
    "1. Republican sentiment was more volatile but showed periodic positivity.\n",
    "2. Democratic sentiment was more stable but persistently negative.\n",
    "3. These patterns may reflect public reactions to key campaign events, debates, or media coverage in the months leading to the 2016 U.S. Presidential Election."
   ]
  },
  {
   "cell_type": "code",
   "execution_count": 439,
   "id": "16ea2bc0-6cfd-4f4a-8a76-dd14cbb6e950",
   "metadata": {},
   "outputs": [
    {
     "data": {
      "image/png": "[encoded data removed]",
      "text/plain": [
       "<Figure size 1000x500 with 1 Axes>"
      ]
     },
     "metadata": {},
     "output_type": "display_data"
    }
   ],
   "source": [
    "# Use histplot instead of kdeplot to avoid fill error and still visualize distribution\n",
    "plt.figure(figsize=(10, 5))\n",
    "sns.histplot(blue_df[\"sentiment\"], label=\"Democrat\", color='blue', kde=True, stat=\"density\", bins=40, alpha=0.5)\n",
    "sns.histplot(gop_df[\"sentiment\"], label=\"Republican\", color='red', kde=True, stat=\"density\", bins=40, alpha=0.5)\n",
    "plt.title(\"Sentiment Score Distribution Comparison\")\n",
    "plt.xlabel(\"Sentiment Score\")\n",
    "plt.ylabel(\"Density\")\n",
    "plt.legend()\n",
    "plt.grid(True)\n",
    "\n",
    "plt.savefig('./visuals/sentiment_score_dist_comp.jpg')\n",
    "plt.show()"
   ]
  },
  {
   "cell_type": "markdown",
   "id": "9debfe48-21bd-48de-85ec-4c2b6c61af15",
   "metadata": {},
   "source": [
    "This plot shows a sentiment score distribution comparison between Democratic (blue) and Republican (red) YouTube comments. The x-axis represents VADER sentiment scores, ranging from -1 (most negative) to +1 (most positive). The y-axis represents density, which shows how concentrated the values are at different sentiment levels.\n",
    "\n",
    "It combines:\n",
    "- Histogram bars (translucent red/blue): show the count/density of sentiment scores in each range (bin).\n",
    "- KDE lines (smoothed curves): show the probability distribution of sentiment for each group.\n",
    "\n",
    "***Key Observations***\n",
    "- **Neutral Sentiment Spike:** Both distributions are sharply peaked around 0, indicating that most comments are neutral.\n",
    "- Democrats (blue line) show a taller and narrower spike—meaning more tightly clustered near neutral.\n",
    "- Republicans (red line) are slightly more spread out.\n",
    "\n",
    "**Polarity Spread:**\n",
    "- Republican comments have more density in both tails (negative and positive), suggesting a wider range of sentiment.\n",
    "- Democratic comments are more concentrated around the center, with fewer strongly negative or strongly positive outliers.\n",
    "- Positive Skew: The Republican curve appears to have a slightly higher density in the positive range, possibly reflecting more positive sentiment overall.\n",
    "\n",
    "***Interpretation:***\n",
    "- Democratic comments tend to be more neutral or cautious in tone, with fewer extreme sentiments.\n",
    "- Republican comments exhibit a broader spectrum, including more strongly opinionated (positive and negative) remarks.\n",
    "- This may indicate that discourse around Republican content is more polarizing, whereas Democratic content invites moderate or neutral responses."
   ]
  },
  {
   "cell_type": "code",
   "execution_count": null,
   "id": "2eb0f841-8c0c-479f-981d-7cf65cf4d7e4",
   "metadata": {},
   "outputs": [],
   "source": []
  },
  {
   "cell_type": "markdown",
   "id": "8c8f9a71-c772-4219-9f94-93c3f914143e",
   "metadata": {},
   "source": [
    "### Alternative Model - HuggingFace\n",
    "\n",
    "**Hugging Face Sentiment Analysis:**\n",
    "Unlike VADER, which produces a numerical compound sentiment score ranging from -1 to 1, Hugging Face’s sentiment-analysis pipeline provides:\n",
    "- A sentiment label: 'POSITIVE' or 'NEGATIVE'\n",
    "- A confidence score: a probability between 0 and 1 indicating how confident the model is in its prediction\n",
    "\n",
    "This approach offers classification-based sentiment analysis rather than a continuous sentiment spectrum.\n",
    "\n",
    "Due to compatibility issues in JupyterLab, Hugging Face sentiment analysis was performed in Google Colab, which provided access to GPU acceleration—critical for processing large volumes of text efficiently.\n",
    "\n",
    "Additionally, it was necessary to enable text truncation, as Hugging Face models (particularly RoBERTa-based ones) impose a token limit and would not process longer comments without truncation enabled."
   ]
  },
  {
   "cell_type": "code",
   "execution_count": 280,
   "id": "fb85be37-b30b-451e-b438-27f4d47c0a8f",
   "metadata": {
    "scrolled": true
   },
   "outputs": [],
   "source": [
    "hf_gop = pd.read_csv('./rep_df_HF.csv')\n",
    "hf_gop = hf_gop.drop(columns=['Unnamed: 0'])"
   ]
  },
  {
   "cell_type": "code",
   "execution_count": 282,
   "id": "b18827c0-24e8-4c71-836e-b955dadd422b",
   "metadata": {},
   "outputs": [
    {
     "data": {
      "text/html": [
       "<div>\n",
       "<style scoped>\n",
       "    .dataframe tbody tr th:only-of-type {\n",
       "        vertical-align: middle;\n",
       "    }\n",
       "\n",
       "    .dataframe tbody tr th {\n",
       "        vertical-align: top;\n",
       "    }\n",
       "\n",
       "    .dataframe thead th {\n",
       "        text-align: right;\n",
       "    }\n",
       "</style>\n",
       "<table border=\"1\" class=\"dataframe\">\n",
       "  <thead>\n",
       "    <tr style=\"text-align: right;\">\n",
       "      <th></th>\n",
       "      <th>Comment</th>\n",
       "      <th>timestamp</th>\n",
       "      <th>sentiment</th>\n",
       "      <th>sentiment_label</th>\n",
       "      <th>year_month</th>\n",
       "      <th>HF_Sentiment</th>\n",
       "      <th>HF_Score_Confidence</th>\n",
       "    </tr>\n",
       "  </thead>\n",
       "  <tbody>\n",
       "    <tr>\n",
       "      <th>0</th>\n",
       "      <td>I totally support and endorse Donald.</td>\n",
       "      <td>2016-06-25 10:54:46+00:00</td>\n",
       "      <td>0.6764</td>\n",
       "      <td>Positive</td>\n",
       "      <td>2016-06</td>\n",
       "      <td>POSITIVE</td>\n",
       "      <td>0.998792</td>\n",
       "    </tr>\n",
       "    <tr>\n",
       "      <th>1</th>\n",
       "      <td>Is that Tito Ortiz from the UFC next to the la...</td>\n",
       "      <td>2016-06-07 21:11:38+00:00</td>\n",
       "      <td>0.5984</td>\n",
       "      <td>Positive</td>\n",
       "      <td>2016-06</td>\n",
       "      <td>POSITIVE</td>\n",
       "      <td>0.988146</td>\n",
       "    </tr>\n",
       "    <tr>\n",
       "      <th>2</th>\n",
       "      <td>I actually can't watch this, first 20 minutes ...</td>\n",
       "      <td>2016-05-31 14:22:36+00:00</td>\n",
       "      <td>0.7506</td>\n",
       "      <td>Positive</td>\n",
       "      <td>2016-05</td>\n",
       "      <td>NEGATIVE</td>\n",
       "      <td>0.999508</td>\n",
       "    </tr>\n",
       "    <tr>\n",
       "      <th>3</th>\n",
       "      <td>he is a coward</td>\n",
       "      <td>2016-05-31 08:16:06+00:00</td>\n",
       "      <td>-0.4588</td>\n",
       "      <td>Negative</td>\n",
       "      <td>2016-05</td>\n",
       "      <td>NEGATIVE</td>\n",
       "      <td>0.999319</td>\n",
       "    </tr>\n",
       "    <tr>\n",
       "      <th>4</th>\n",
       "      <td>😴😴😴</td>\n",
       "      <td>2016-05-31 05:53:00+00:00</td>\n",
       "      <td>0.0000</td>\n",
       "      <td>Neutral</td>\n",
       "      <td>2016-05</td>\n",
       "      <td>POSITIVE</td>\n",
       "      <td>0.997923</td>\n",
       "    </tr>\n",
       "  </tbody>\n",
       "</table>\n",
       "</div>"
      ],
      "text/plain": [
       "                                             Comment  \\\n",
       "0              I totally support and endorse Donald.   \n",
       "1  Is that Tito Ortiz from the UFC next to the la...   \n",
       "2  I actually can't watch this, first 20 minutes ...   \n",
       "3                                     he is a coward   \n",
       "4                                                😴😴😴   \n",
       "\n",
       "                   timestamp  sentiment sentiment_label year_month  \\\n",
       "0  2016-06-25 10:54:46+00:00     0.6764        Positive    2016-06   \n",
       "1  2016-06-07 21:11:38+00:00     0.5984        Positive    2016-06   \n",
       "2  2016-05-31 14:22:36+00:00     0.7506        Positive    2016-05   \n",
       "3  2016-05-31 08:16:06+00:00    -0.4588        Negative    2016-05   \n",
       "4  2016-05-31 05:53:00+00:00     0.0000         Neutral    2016-05   \n",
       "\n",
       "  HF_Sentiment  HF_Score_Confidence  \n",
       "0     POSITIVE             0.998792  \n",
       "1     POSITIVE             0.988146  \n",
       "2     NEGATIVE             0.999508  \n",
       "3     NEGATIVE             0.999319  \n",
       "4     POSITIVE             0.997923  "
      ]
     },
     "execution_count": 282,
     "metadata": {},
     "output_type": "execute_result"
    }
   ],
   "source": [
    "hf_gop.head()"
   ]
  },
  {
   "cell_type": "code",
   "execution_count": 286,
   "id": "1f3ec71b-445a-4f6e-82a3-2d892cbe6148",
   "metadata": {},
   "outputs": [],
   "source": [
    "hf_dem = pd.read_csv('./dem_df_HF.csv')\n",
    "hf_dem = hf_dem.drop(columns=['Unnamed: 0'])"
   ]
  },
  {
   "cell_type": "code",
   "execution_count": 288,
   "id": "cd98a273-7835-4fb3-bb2d-1cc2574ddbac",
   "metadata": {},
   "outputs": [
    {
     "data": {
      "text/html": [
       "<div>\n",
       "<style scoped>\n",
       "    .dataframe tbody tr th:only-of-type {\n",
       "        vertical-align: middle;\n",
       "    }\n",
       "\n",
       "    .dataframe tbody tr th {\n",
       "        vertical-align: top;\n",
       "    }\n",
       "\n",
       "    .dataframe thead th {\n",
       "        text-align: right;\n",
       "    }\n",
       "</style>\n",
       "<table border=\"1\" class=\"dataframe\">\n",
       "  <thead>\n",
       "    <tr style=\"text-align: right;\">\n",
       "      <th></th>\n",
       "      <th>Comment</th>\n",
       "      <th>timestamp</th>\n",
       "      <th>sentiment</th>\n",
       "      <th>sentiment_label</th>\n",
       "      <th>year_month</th>\n",
       "      <th>HF_Sentiment</th>\n",
       "      <th>HF_Label_Confidence</th>\n",
       "    </tr>\n",
       "  </thead>\n",
       "  <tbody>\n",
       "    <tr>\n",
       "      <th>0</th>\n",
       "      <td>www.infowars.com</td>\n",
       "      <td>2016-10-25 21:47:05+00:00</td>\n",
       "      <td>0.0000</td>\n",
       "      <td>Neutral</td>\n",
       "      <td>2016-10</td>\n",
       "      <td>NEGATIVE</td>\n",
       "      <td>0.988892</td>\n",
       "    </tr>\n",
       "    <tr>\n",
       "      <th>1</th>\n",
       "      <td>She's so full of shit.</td>\n",
       "      <td>2016-10-20 03:25:18+00:00</td>\n",
       "      <td>-0.5945</td>\n",
       "      <td>Negative</td>\n",
       "      <td>2016-10</td>\n",
       "      <td>NEGATIVE</td>\n",
       "      <td>0.999483</td>\n",
       "    </tr>\n",
       "    <tr>\n",
       "      <th>2</th>\n",
       "      <td>Empty promises and emotional rhetoric to persu...</td>\n",
       "      <td>2016-10-19 11:48:47+00:00</td>\n",
       "      <td>0.9325</td>\n",
       "      <td>Positive</td>\n",
       "      <td>2016-10</td>\n",
       "      <td>NEGATIVE</td>\n",
       "      <td>0.997069</td>\n",
       "    </tr>\n",
       "    <tr>\n",
       "      <th>3</th>\n",
       "      <td>Black live matter Hillary say so, then what ab...</td>\n",
       "      <td>2016-10-19 03:20:58+00:00</td>\n",
       "      <td>0.2845</td>\n",
       "      <td>Positive</td>\n",
       "      <td>2016-10</td>\n",
       "      <td>NEGATIVE</td>\n",
       "      <td>0.996861</td>\n",
       "    </tr>\n",
       "    <tr>\n",
       "      <th>4</th>\n",
       "      <td>She cheated Bernie out of nomination.</td>\n",
       "      <td>2016-10-19 01:25:36+00:00</td>\n",
       "      <td>-0.5106</td>\n",
       "      <td>Negative</td>\n",
       "      <td>2016-10</td>\n",
       "      <td>NEGATIVE</td>\n",
       "      <td>0.999420</td>\n",
       "    </tr>\n",
       "  </tbody>\n",
       "</table>\n",
       "</div>"
      ],
      "text/plain": [
       "                                             Comment  \\\n",
       "0                                   www.infowars.com   \n",
       "1                             She's so full of shit.   \n",
       "2  Empty promises and emotional rhetoric to persu...   \n",
       "3  Black live matter Hillary say so, then what ab...   \n",
       "4              She cheated Bernie out of nomination.   \n",
       "\n",
       "                   timestamp  sentiment sentiment_label year_month  \\\n",
       "0  2016-10-25 21:47:05+00:00     0.0000         Neutral    2016-10   \n",
       "1  2016-10-20 03:25:18+00:00    -0.5945        Negative    2016-10   \n",
       "2  2016-10-19 11:48:47+00:00     0.9325        Positive    2016-10   \n",
       "3  2016-10-19 03:20:58+00:00     0.2845        Positive    2016-10   \n",
       "4  2016-10-19 01:25:36+00:00    -0.5106        Negative    2016-10   \n",
       "\n",
       "  HF_Sentiment  HF_Label_Confidence  \n",
       "0     NEGATIVE             0.988892  \n",
       "1     NEGATIVE             0.999483  \n",
       "2     NEGATIVE             0.997069  \n",
       "3     NEGATIVE             0.996861  \n",
       "4     NEGATIVE             0.999420  "
      ]
     },
     "execution_count": 288,
     "metadata": {},
     "output_type": "execute_result"
    }
   ],
   "source": [
    "hf_dem.head()"
   ]
  },
  {
   "cell_type": "code",
   "execution_count": 387,
   "id": "16a3479d-4614-48dd-ab33-481142b63115",
   "metadata": {},
   "outputs": [
    {
     "data": {
      "image/png": "[encoded data removed]",
      "text/plain": [
       "<Figure size 1000x500 with 1 Axes>"
      ]
     },
     "metadata": {},
     "output_type": "display_data"
    }
   ],
   "source": [
    "hf_gop_norm = hf_gop['HF_Sentiment'].value_counts(normalize=True).rename_axis('Sentiment').reset_index(name='Proportion')\n",
    "hf_gop_norm['Party'] = 'Republican'\n",
    "\n",
    "hf_dem_norm = hf_dem['HF_Sentiment'].value_counts(normalize=True).rename_axis('Sentiment').reset_index(name='Proportion')\n",
    "hf_dem_norm['Party'] = 'Democratic'\n",
    "\n",
    "# Step 2: Combine both into a single DataFrame\n",
    "hf_combined = pd.concat([hf_gop_norm, hf_dem_norm])\n",
    "\n",
    "# Step 3: Plot normalized bar chart\n",
    "plt.figure(figsize=(10, 5))\n",
    "sns.barplot(data=hf_combined, x='Sentiment', y='Proportion', hue='Party',\n",
    "            palette={'Republican': 'red', 'Democratic': 'blue'})\n",
    "\n",
    "plt.title('Normalized HuggingFace Sentiment Distribution by Party')\n",
    "plt.ylabel('Proportion')\n",
    "plt.xlabel('Sentiment')\n",
    "plt.ylim(0, 1)\n",
    "plt.grid(axis='y')\n",
    "plt.legend(title='Party')\n",
    "plt.tight_layout()\n",
    "plt.savefig('./visuals/HuggingFace_Sentiment_Dist.jpg')\n",
    "\n",
    "plt.show()"
   ]
  },
  {
   "cell_type": "code",
   "execution_count": null,
   "id": "8d6b3d4e-8ae7-454e-8942-cc67c18c4b8b",
   "metadata": {},
   "outputs": [],
   "source": []
  },
  {
   "cell_type": "code",
   "execution_count": null,
   "id": "48f3bc20-859d-4b91-9350-f7958f692292",
   "metadata": {},
   "outputs": [],
   "source": []
  },
  {
   "cell_type": "markdown",
   "id": "0dbab809-218e-42d7-ae10-c40f8e54a193",
   "metadata": {},
   "source": [
    "### 2020 Election"
   ]
  },
  {
   "cell_type": "code",
   "execution_count": 342,
   "id": "75037b81-1c05-41e0-90c8-e00463a0a924",
   "metadata": {},
   "outputs": [],
   "source": [
    "# Updated Function for 2020 elections\n",
    "\n",
    "def data_processor2020(df1, df2):\n",
    "    # Concatenating dataframes and only keeping 1 top-level comment per user (no replies)\n",
    "    df = pd.concat([df1, df2], ignore_index=True)\n",
    "    df = df.drop_duplicates(subset=['Comment'])\n",
    "    df = df.drop_duplicates(subset=['Username'])\n",
    "\n",
    "    # Dropping nulls\n",
    "    df = df.dropna()\n",
    "\n",
    "    # Changing timestamp object type to Datetime\n",
    "    df['timestamp'] = pd.to_datetime(df['Timestamp'])\n",
    "    \n",
    "    # Filter for May 1 - Nov 4, 2016\n",
    "    mask = (df['timestamp'] >= '2020-05-01') & (df['timestamp'] <= '2020-11-02')\n",
    "    df = df.loc[mask].copy()\n",
    "\n",
    "    # Applying SentimentIntensityAnalyzer\n",
    "    df['sentiment'] = df['Comment'].apply(lambda x: analyzer.polarity_scores(x)['compound'])\n",
    "    df['sentiment_label'] = df['sentiment'].apply(lambda x: 'Positive' if x > 0.05 else 'Negative' if x < -0.05 else 'Neutral')\n",
    "\n",
    "    df = df.drop(columns = ['Username', 'VideoID', 'Date', 'Timestamp'], axis=1)\n",
    "\n",
    "    return df"
   ]
  },
  {
   "cell_type": "markdown",
   "id": "29b6d294-7578-4609-8541-9b35e7ce499f",
   "metadata": {},
   "source": [
    "***Donald Trump & the Republican Party***"
   ]
  },
  {
   "cell_type": "code",
   "execution_count": 305,
   "id": "657a0d17-deda-4971-994d-3a43f1a25544",
   "metadata": {},
   "outputs": [],
   "source": [
    "trump2020 = pd.read_csv('./2020_data/2020trump_comments.csv')\n",
    "rep2020 = pd.read_csv('./2020_data/2020Rep_debate_comments.csv')"
   ]
  },
  {
   "cell_type": "code",
   "execution_count": 307,
   "id": "ac3930cd-8154-449d-8468-66167d3160d0",
   "metadata": {},
   "outputs": [
    {
     "data": {
      "text/plain": [
       "Timestamp     0\n",
       "Username     26\n",
       "VideoID       0\n",
       "Comment       1\n",
       "Date          0\n",
       "dtype: int64"
      ]
     },
     "execution_count": 307,
     "metadata": {},
     "output_type": "execute_result"
    }
   ],
   "source": [
    "trump2020.isnull().sum()"
   ]
  },
  {
   "cell_type": "code",
   "execution_count": 309,
   "id": "42e6315f-3626-449c-928c-058dd42a4813",
   "metadata": {},
   "outputs": [
    {
     "data": {
      "text/plain": [
       "Timestamp     0\n",
       "Username     11\n",
       "VideoID       0\n",
       "Comment       0\n",
       "Date          0\n",
       "dtype: int64"
      ]
     },
     "execution_count": 309,
     "metadata": {},
     "output_type": "execute_result"
    }
   ],
   "source": [
    "rep2020.isnull().sum()"
   ]
  },
  {
   "cell_type": "code",
   "execution_count": 311,
   "id": "9bf3c0dc-8ffe-413e-a76a-dc4155f77c3f",
   "metadata": {},
   "outputs": [
    {
     "name": "stdout",
     "output_type": "stream",
     "text": [
      "<class 'pandas.core.frame.DataFrame'>\n",
      "RangeIndex: 10398 entries, 0 to 10397\n",
      "Data columns (total 5 columns):\n",
      " #   Column     Non-Null Count  Dtype \n",
      "---  ------     --------------  ----- \n",
      " 0   Timestamp  10398 non-null  object\n",
      " 1   Username   10372 non-null  object\n",
      " 2   VideoID    10398 non-null  object\n",
      " 3   Comment    10397 non-null  object\n",
      " 4   Date       10398 non-null  object\n",
      "dtypes: object(5)\n",
      "memory usage: 406.3+ KB\n"
     ]
    }
   ],
   "source": [
    "trump2020.info()"
   ]
  },
  {
   "cell_type": "code",
   "execution_count": 313,
   "id": "7dca91cc-2985-499c-adfa-9be0fed2332f",
   "metadata": {},
   "outputs": [
    {
     "name": "stdout",
     "output_type": "stream",
     "text": [
      "<class 'pandas.core.frame.DataFrame'>\n",
      "RangeIndex: 17235 entries, 0 to 17234\n",
      "Data columns (total 5 columns):\n",
      " #   Column     Non-Null Count  Dtype \n",
      "---  ------     --------------  ----- \n",
      " 0   Timestamp  17235 non-null  object\n",
      " 1   Username   17224 non-null  object\n",
      " 2   VideoID    17235 non-null  object\n",
      " 3   Comment    17235 non-null  object\n",
      " 4   Date       17235 non-null  object\n",
      "dtypes: object(5)\n",
      "memory usage: 673.4+ KB\n"
     ]
    }
   ],
   "source": [
    "rep2020.info()"
   ]
  },
  {
   "cell_type": "code",
   "execution_count": 344,
   "id": "731637e5-b3a2-4a73-8340-5c09a9b00ef6",
   "metadata": {},
   "outputs": [],
   "source": [
    "gop2020 = data_processor2020(trump2020, rep2020)"
   ]
  },
  {
   "cell_type": "code",
   "execution_count": 346,
   "id": "e780ce8a-16ee-437a-8996-93e744ac96dd",
   "metadata": {},
   "outputs": [
    {
     "data": {
      "text/plain": [
       "(21251, 4)"
      ]
     },
     "execution_count": 346,
     "metadata": {},
     "output_type": "execute_result"
    }
   ],
   "source": [
    "gop2020.shape"
   ]
  },
  {
   "cell_type": "code",
   "execution_count": 348,
   "id": "2a24d25e-e364-4d01-ab2d-4ae05f68958d",
   "metadata": {},
   "outputs": [
    {
     "data": {
      "text/html": [
       "<div>\n",
       "<style scoped>\n",
       "    .dataframe tbody tr th:only-of-type {\n",
       "        vertical-align: middle;\n",
       "    }\n",
       "\n",
       "    .dataframe tbody tr th {\n",
       "        vertical-align: top;\n",
       "    }\n",
       "\n",
       "    .dataframe thead th {\n",
       "        text-align: right;\n",
       "    }\n",
       "</style>\n",
       "<table border=\"1\" class=\"dataframe\">\n",
       "  <thead>\n",
       "    <tr style=\"text-align: right;\">\n",
       "      <th></th>\n",
       "      <th>Comment</th>\n",
       "      <th>timestamp</th>\n",
       "      <th>sentiment</th>\n",
       "      <th>sentiment_label</th>\n",
       "      <th>year_month</th>\n",
       "    </tr>\n",
       "  </thead>\n",
       "  <tbody>\n",
       "    <tr>\n",
       "      <th>464</th>\n",
       "      <td>I totally support and endorse Donald.</td>\n",
       "      <td>2016-06-25 10:54:46+00:00</td>\n",
       "      <td>0.6764</td>\n",
       "      <td>Positive</td>\n",
       "      <td>2016-06</td>\n",
       "    </tr>\n",
       "    <tr>\n",
       "      <th>465</th>\n",
       "      <td>Is that Tito Ortiz from the UFC next to the la...</td>\n",
       "      <td>2016-06-07 21:11:38+00:00</td>\n",
       "      <td>0.5984</td>\n",
       "      <td>Positive</td>\n",
       "      <td>2016-06</td>\n",
       "    </tr>\n",
       "    <tr>\n",
       "      <th>466</th>\n",
       "      <td>I actually can't watch this, first 20 minutes ...</td>\n",
       "      <td>2016-05-31 14:22:36+00:00</td>\n",
       "      <td>0.7506</td>\n",
       "      <td>Positive</td>\n",
       "      <td>2016-05</td>\n",
       "    </tr>\n",
       "    <tr>\n",
       "      <th>467</th>\n",
       "      <td>he is a coward</td>\n",
       "      <td>2016-05-31 08:16:06+00:00</td>\n",
       "      <td>-0.4588</td>\n",
       "      <td>Negative</td>\n",
       "      <td>2016-05</td>\n",
       "    </tr>\n",
       "    <tr>\n",
       "      <th>468</th>\n",
       "      <td>😴😴😴</td>\n",
       "      <td>2016-05-31 05:53:00+00:00</td>\n",
       "      <td>0.0000</td>\n",
       "      <td>Neutral</td>\n",
       "      <td>2016-05</td>\n",
       "    </tr>\n",
       "  </tbody>\n",
       "</table>\n",
       "</div>"
      ],
      "text/plain": [
       "                                               Comment  \\\n",
       "464              I totally support and endorse Donald.   \n",
       "465  Is that Tito Ortiz from the UFC next to the la...   \n",
       "466  I actually can't watch this, first 20 minutes ...   \n",
       "467                                     he is a coward   \n",
       "468                                                😴😴😴   \n",
       "\n",
       "                    timestamp  sentiment sentiment_label year_month  \n",
       "464 2016-06-25 10:54:46+00:00     0.6764        Positive    2016-06  \n",
       "465 2016-06-07 21:11:38+00:00     0.5984        Positive    2016-06  \n",
       "466 2016-05-31 14:22:36+00:00     0.7506        Positive    2016-05  \n",
       "467 2016-05-31 08:16:06+00:00    -0.4588        Negative    2016-05  \n",
       "468 2016-05-31 05:53:00+00:00     0.0000         Neutral    2016-05  "
      ]
     },
     "execution_count": 348,
     "metadata": {},
     "output_type": "execute_result"
    }
   ],
   "source": [
    "gop_df.head()"
   ]
  },
  {
   "cell_type": "code",
   "execution_count": 350,
   "id": "0b2d2426-72cf-44ad-a04a-9f26ef3ee2bc",
   "metadata": {},
   "outputs": [
    {
     "data": {
      "text/plain": [
       "0.039240768277571246"
      ]
     },
     "execution_count": 350,
     "metadata": {},
     "output_type": "execute_result"
    }
   ],
   "source": [
    "gop_df['sentiment'].mean()"
   ]
  },
  {
   "cell_type": "markdown",
   "id": "f0b23232-61ca-4287-9949-ec52007be1a3",
   "metadata": {},
   "source": [
    "***Hillary Clinton & the Democratic Party***"
   ]
  },
  {
   "cell_type": "code",
   "execution_count": 369,
   "id": "2c59a548-0793-47e6-b912-28f87298b872",
   "metadata": {},
   "outputs": [],
   "source": [
    "biden2020 = pd.read_csv('./2020_data/2020biden_comments.csv')\n",
    "dem2020 = pd.read_csv('./2020_data/2020Dem_debate_comments.csv')"
   ]
  },
  {
   "cell_type": "code",
   "execution_count": 359,
   "id": "647a2848-8bc5-4e7b-aaa2-5ce9c80f1aac",
   "metadata": {},
   "outputs": [
    {
     "data": {
      "text/plain": [
       "Timestamp    0\n",
       "Username     9\n",
       "VideoID      0\n",
       "Comment      0\n",
       "Date         0\n",
       "dtype: int64"
      ]
     },
     "execution_count": 359,
     "metadata": {},
     "output_type": "execute_result"
    }
   ],
   "source": [
    "biden2020.isnull().sum()"
   ]
  },
  {
   "cell_type": "code",
   "execution_count": 361,
   "id": "7e201cb9-5b4f-4388-8aa7-89c874732d0c",
   "metadata": {},
   "outputs": [
    {
     "data": {
      "text/plain": [
       "Timestamp     0\n",
       "Username     40\n",
       "VideoID       0\n",
       "Comment       0\n",
       "Date          0\n",
       "dtype: int64"
      ]
     },
     "execution_count": 361,
     "metadata": {},
     "output_type": "execute_result"
    }
   ],
   "source": [
    "dem2020.isnull().sum()"
   ]
  },
  {
   "cell_type": "code",
   "execution_count": 363,
   "id": "b64b4f09-9bfb-4650-9fb5-2c6a80e24dce",
   "metadata": {},
   "outputs": [
    {
     "name": "stdout",
     "output_type": "stream",
     "text": [
      "<class 'pandas.core.frame.DataFrame'>\n",
      "RangeIndex: 4357 entries, 0 to 4356\n",
      "Data columns (total 5 columns):\n",
      " #   Column     Non-Null Count  Dtype \n",
      "---  ------     --------------  ----- \n",
      " 0   Timestamp  4357 non-null   object\n",
      " 1   Username   4348 non-null   object\n",
      " 2   VideoID    4357 non-null   object\n",
      " 3   Comment    4357 non-null   object\n",
      " 4   Date       4357 non-null   object\n",
      "dtypes: object(5)\n",
      "memory usage: 170.3+ KB\n"
     ]
    }
   ],
   "source": [
    "biden2020.info()"
   ]
  },
  {
   "cell_type": "code",
   "execution_count": 365,
   "id": "39034717-99a4-4a7a-8613-50de1965655c",
   "metadata": {},
   "outputs": [
    {
     "name": "stdout",
     "output_type": "stream",
     "text": [
      "<class 'pandas.core.frame.DataFrame'>\n",
      "RangeIndex: 25944 entries, 0 to 25943\n",
      "Data columns (total 5 columns):\n",
      " #   Column     Non-Null Count  Dtype \n",
      "---  ------     --------------  ----- \n",
      " 0   Timestamp  25944 non-null  object\n",
      " 1   Username   25904 non-null  object\n",
      " 2   VideoID    25944 non-null  object\n",
      " 3   Comment    25944 non-null  object\n",
      " 4   Date       25944 non-null  object\n",
      "dtypes: object(5)\n",
      "memory usage: 1013.6+ KB\n"
     ]
    }
   ],
   "source": [
    "dem2020.info()"
   ]
  },
  {
   "cell_type": "code",
   "execution_count": 371,
   "id": "13ca1427-85fa-4be6-81db-60b438176e62",
   "metadata": {},
   "outputs": [],
   "source": [
    "blue2020 = data_processor2020(biden2020, dem2020)"
   ]
  },
  {
   "cell_type": "code",
   "execution_count": 373,
   "id": "5f9a6ff8-ef46-4e22-b737-ebaf05767d3f",
   "metadata": {},
   "outputs": [
    {
     "data": {
      "text/plain": [
       "(20629, 4)"
      ]
     },
     "execution_count": 373,
     "metadata": {},
     "output_type": "execute_result"
    }
   ],
   "source": [
    "blue2020.shape"
   ]
  },
  {
   "cell_type": "code",
   "execution_count": 375,
   "id": "0b2f5469-b22b-4d71-84d7-f18e4ca9f7a1",
   "metadata": {},
   "outputs": [
    {
     "data": {
      "text/html": [
       "<div>\n",
       "<style scoped>\n",
       "    .dataframe tbody tr th:only-of-type {\n",
       "        vertical-align: middle;\n",
       "    }\n",
       "\n",
       "    .dataframe tbody tr th {\n",
       "        vertical-align: top;\n",
       "    }\n",
       "\n",
       "    .dataframe thead th {\n",
       "        text-align: right;\n",
       "    }\n",
       "</style>\n",
       "<table border=\"1\" class=\"dataframe\">\n",
       "  <thead>\n",
       "    <tr style=\"text-align: right;\">\n",
       "      <th></th>\n",
       "      <th>Comment</th>\n",
       "      <th>timestamp</th>\n",
       "      <th>sentiment</th>\n",
       "      <th>sentiment_label</th>\n",
       "    </tr>\n",
       "  </thead>\n",
       "  <tbody>\n",
       "    <tr>\n",
       "      <th>0</th>\n",
       "      <td>Pathetic 🤣🤣🤣🤣🤣</td>\n",
       "      <td>2020-10-22 11:51:07+00:00</td>\n",
       "      <td>0.9062</td>\n",
       "      <td>Positive</td>\n",
       "    </tr>\n",
       "    <tr>\n",
       "      <th>1</th>\n",
       "      <td>DONALD TRUMPED BIDEN 2020 November.!!!!</td>\n",
       "      <td>2020-10-21 09:56:46+00:00</td>\n",
       "      <td>0.0000</td>\n",
       "      <td>Neutral</td>\n",
       "    </tr>\n",
       "    <tr>\n",
       "      <th>2</th>\n",
       "      <td>this is a biden rally ?  ..... laughable     :...</td>\n",
       "      <td>2020-10-09 01:48:54+00:00</td>\n",
       "      <td>0.0516</td>\n",
       "      <td>Positive</td>\n",
       "    </tr>\n",
       "    <tr>\n",
       "      <th>3</th>\n",
       "      <td>LOlOL Democrats logic \" Joe will be great rest...</td>\n",
       "      <td>2020-09-27 06:52:40+00:00</td>\n",
       "      <td>0.7058</td>\n",
       "      <td>Positive</td>\n",
       "    </tr>\n",
       "    <tr>\n",
       "      <th>4</th>\n",
       "      <td>“Joe is a Problem solver” LOL Best oxymoron</td>\n",
       "      <td>2020-09-26 03:26:27+00:00</td>\n",
       "      <td>0.6739</td>\n",
       "      <td>Positive</td>\n",
       "    </tr>\n",
       "  </tbody>\n",
       "</table>\n",
       "</div>"
      ],
      "text/plain": [
       "                                             Comment  \\\n",
       "0                                     Pathetic 🤣🤣🤣🤣🤣   \n",
       "1            DONALD TRUMPED BIDEN 2020 November.!!!!   \n",
       "2  this is a biden rally ?  ..... laughable     :...   \n",
       "3  LOlOL Democrats logic \" Joe will be great rest...   \n",
       "4        “Joe is a Problem solver” LOL Best oxymoron   \n",
       "\n",
       "                  timestamp  sentiment sentiment_label  \n",
       "0 2020-10-22 11:51:07+00:00     0.9062        Positive  \n",
       "1 2020-10-21 09:56:46+00:00     0.0000         Neutral  \n",
       "2 2020-10-09 01:48:54+00:00     0.0516        Positive  \n",
       "3 2020-09-27 06:52:40+00:00     0.7058        Positive  \n",
       "4 2020-09-26 03:26:27+00:00     0.6739        Positive  "
      ]
     },
     "execution_count": 375,
     "metadata": {},
     "output_type": "execute_result"
    }
   ],
   "source": [
    "blue2020.head()"
   ]
  },
  {
   "cell_type": "code",
   "execution_count": 377,
   "id": "4b8c92d9-7ad6-4d26-bb33-b02714474fa5",
   "metadata": {},
   "outputs": [
    {
     "data": {
      "text/plain": [
       "0.02299896262543022"
      ]
     },
     "execution_count": 377,
     "metadata": {},
     "output_type": "execute_result"
    }
   ],
   "source": [
    "blue2020['sentiment'].mean()"
   ]
  },
  {
   "cell_type": "markdown",
   "id": "5ef325b8-d9bf-4a14-90b3-02a2c5774af1",
   "metadata": {},
   "source": [
    "### 2024 Election"
   ]
  },
  {
   "cell_type": "code",
   "execution_count": 389,
   "id": "76670d81-3205-424e-8a5a-46ba129f8e8d",
   "metadata": {},
   "outputs": [],
   "source": [
    "# Updated Function for 2024 elections\n",
    "\n",
    "def data_processor2024(df1, df2):\n",
    "    # Concatenating dataframes and only keeping 1 top-level comment per user (no replies)\n",
    "    df = pd.concat([df1, df2], ignore_index=True)\n",
    "    df = df.drop_duplicates(subset=['Comment'])\n",
    "    df = df.drop_duplicates(subset=['Username'])\n",
    "\n",
    "    # Dropping nulls\n",
    "    df = df.dropna()\n",
    "\n",
    "    # Changing timestamp object type to Datetime\n",
    "    df['timestamp'] = pd.to_datetime(df['Timestamp'])\n",
    "    \n",
    "    # Filter for May 1 - Nov 4, 2016\n",
    "    mask = (df['timestamp'] >= '2024-05-01') & (df['timestamp'] <= '2024-11-04')\n",
    "    df = df.loc[mask].copy()\n",
    "\n",
    "    # Applying SentimentIntensityAnalyzer\n",
    "    df['sentiment'] = df['Comment'].apply(lambda x: analyzer.polarity_scores(x)['compound'])\n",
    "    df['sentiment_label'] = df['sentiment'].apply(lambda x: 'Positive' if x > 0.05 else 'Negative' if x < -0.05 else 'Neutral')\n",
    "\n",
    "    df = df.drop(columns = ['Username', 'VideoID', 'Date', 'Timestamp'], axis=1)\n",
    "\n",
    "    return df"
   ]
  },
  {
   "cell_type": "markdown",
   "id": "baeceed7-6ddf-4b33-8e0b-bcf512ffedc2",
   "metadata": {},
   "source": [
    "***Donald Trump & the Republican Party***"
   ]
  },
  {
   "cell_type": "code",
   "execution_count": 394,
   "id": "1ffe11d0-64db-4658-aa6f-51ca34016d77",
   "metadata": {},
   "outputs": [],
   "source": [
    "trump2024 = pd.read_csv('./2024_data/2024trump_comments.csv')\n",
    "rep2024 = pd.read_csv('./2024_data/2024Rep_debate_comments.csv')"
   ]
  },
  {
   "cell_type": "code",
   "execution_count": 400,
   "id": "cce52dc1-fa90-4e3e-92e9-aa4a374109b7",
   "metadata": {},
   "outputs": [],
   "source": [
    "gop2024 = data_processor2024(trump2024, rep2024)"
   ]
  },
  {
   "cell_type": "code",
   "execution_count": 402,
   "id": "405444db-2744-4823-9466-53d75385093c",
   "metadata": {},
   "outputs": [
    {
     "data": {
      "text/plain": [
       "(42457, 4)"
      ]
     },
     "execution_count": 402,
     "metadata": {},
     "output_type": "execute_result"
    }
   ],
   "source": [
    "gop2024.shape"
   ]
  },
  {
   "cell_type": "code",
   "execution_count": 404,
   "id": "9bc63f09-c268-4acc-a206-972cddf199a5",
   "metadata": {},
   "outputs": [
    {
     "data": {
      "text/html": [
       "<div>\n",
       "<style scoped>\n",
       "    .dataframe tbody tr th:only-of-type {\n",
       "        vertical-align: middle;\n",
       "    }\n",
       "\n",
       "    .dataframe tbody tr th {\n",
       "        vertical-align: top;\n",
       "    }\n",
       "\n",
       "    .dataframe thead th {\n",
       "        text-align: right;\n",
       "    }\n",
       "</style>\n",
       "<table border=\"1\" class=\"dataframe\">\n",
       "  <thead>\n",
       "    <tr style=\"text-align: right;\">\n",
       "      <th></th>\n",
       "      <th>Comment</th>\n",
       "      <th>timestamp</th>\n",
       "      <th>sentiment</th>\n",
       "      <th>sentiment_label</th>\n",
       "    </tr>\n",
       "  </thead>\n",
       "  <tbody>\n",
       "    <tr>\n",
       "      <th>0</th>\n",
       "      <td>I LOVE TRUMP</td>\n",
       "      <td>2024-10-19 23:31:02+00:00</td>\n",
       "      <td>0.6369</td>\n",
       "      <td>Positive</td>\n",
       "    </tr>\n",
       "    <tr>\n",
       "      <th>1</th>\n",
       "      <td>Walter Tunnel</td>\n",
       "      <td>2024-10-09 22:33:59+00:00</td>\n",
       "      <td>0.0000</td>\n",
       "      <td>Neutral</td>\n",
       "    </tr>\n",
       "    <tr>\n",
       "      <th>2</th>\n",
       "      <td>2:30 if you dont feel it like this guy i feel ...</td>\n",
       "      <td>2024-10-08 03:22:21+00:00</td>\n",
       "      <td>-0.6818</td>\n",
       "      <td>Negative</td>\n",
       "    </tr>\n",
       "    <tr>\n",
       "      <th>3</th>\n",
       "      <td>You’re so wonderful, Sir!</td>\n",
       "      <td>2024-09-24 05:28:03+00:00</td>\n",
       "      <td>0.6468</td>\n",
       "      <td>Positive</td>\n",
       "    </tr>\n",
       "    <tr>\n",
       "      <th>4</th>\n",
       "      <td>BEST PRESIDENT EVER PRESIDENT TRUMP2024🇺🇸❤️🦅</td>\n",
       "      <td>2024-09-24 03:43:35+00:00</td>\n",
       "      <td>0.7125</td>\n",
       "      <td>Positive</td>\n",
       "    </tr>\n",
       "  </tbody>\n",
       "</table>\n",
       "</div>"
      ],
      "text/plain": [
       "                                             Comment  \\\n",
       "0                                       I LOVE TRUMP   \n",
       "1                                      Walter Tunnel   \n",
       "2  2:30 if you dont feel it like this guy i feel ...   \n",
       "3                          You’re so wonderful, Sir!   \n",
       "4       BEST PRESIDENT EVER PRESIDENT TRUMP2024🇺🇸❤️🦅   \n",
       "\n",
       "                  timestamp  sentiment sentiment_label  \n",
       "0 2024-10-19 23:31:02+00:00     0.6369        Positive  \n",
       "1 2024-10-09 22:33:59+00:00     0.0000         Neutral  \n",
       "2 2024-10-08 03:22:21+00:00    -0.6818        Negative  \n",
       "3 2024-09-24 05:28:03+00:00     0.6468        Positive  \n",
       "4 2024-09-24 03:43:35+00:00     0.7125        Positive  "
      ]
     },
     "execution_count": 404,
     "metadata": {},
     "output_type": "execute_result"
    }
   ],
   "source": [
    "gop2024.head()"
   ]
  },
  {
   "cell_type": "code",
   "execution_count": 406,
   "id": "69b13aa7-972c-43df-92d5-36081294c65c",
   "metadata": {},
   "outputs": [
    {
     "data": {
      "text/plain": [
       "0.10459350166050357"
      ]
     },
     "execution_count": 406,
     "metadata": {},
     "output_type": "execute_result"
    }
   ],
   "source": [
    "gop2024['sentiment'].mean()"
   ]
  },
  {
   "cell_type": "markdown",
   "id": "bed9d08a-bcfc-42a8-ab65-89e78f3d3429",
   "metadata": {},
   "source": [
    "***Hillary Clinton & the Democratic Party***"
   ]
  },
  {
   "cell_type": "code",
   "execution_count": 420,
   "id": "835233fe-f0b6-45ee-ae34-328a86d3ccfd",
   "metadata": {},
   "outputs": [],
   "source": [
    "kamala2024 = pd.read_csv('./2024_data/2024kamala_comments.csv')\n",
    "rep2024 = pd.read_csv('./2024_data/2024Dem_debate_comments.csv')"
   ]
  },
  {
   "cell_type": "code",
   "execution_count": 422,
   "id": "b00953a9-668b-4a80-bb2c-b07541d78d45",
   "metadata": {},
   "outputs": [],
   "source": [
    "gop2024 = data_processor2024(trump2024, rep2024)"
   ]
  },
  {
   "cell_type": "code",
   "execution_count": 424,
   "id": "cb1cd124-f8ac-4d62-93bd-13c12a64a44a",
   "metadata": {},
   "outputs": [
    {
     "data": {
      "text/plain": [
       "(33344, 4)"
      ]
     },
     "execution_count": 424,
     "metadata": {},
     "output_type": "execute_result"
    }
   ],
   "source": [
    "gop2024.shape"
   ]
  },
  {
   "cell_type": "code",
   "execution_count": 426,
   "id": "5173a4e1-248e-47c1-bd64-90addd77dede",
   "metadata": {},
   "outputs": [
    {
     "data": {
      "text/html": [
       "<div>\n",
       "<style scoped>\n",
       "    .dataframe tbody tr th:only-of-type {\n",
       "        vertical-align: middle;\n",
       "    }\n",
       "\n",
       "    .dataframe tbody tr th {\n",
       "        vertical-align: top;\n",
       "    }\n",
       "\n",
       "    .dataframe thead th {\n",
       "        text-align: right;\n",
       "    }\n",
       "</style>\n",
       "<table border=\"1\" class=\"dataframe\">\n",
       "  <thead>\n",
       "    <tr style=\"text-align: right;\">\n",
       "      <th></th>\n",
       "      <th>Comment</th>\n",
       "      <th>timestamp</th>\n",
       "      <th>sentiment</th>\n",
       "      <th>sentiment_label</th>\n",
       "    </tr>\n",
       "  </thead>\n",
       "  <tbody>\n",
       "    <tr>\n",
       "      <th>0</th>\n",
       "      <td>I LOVE TRUMP</td>\n",
       "      <td>2024-10-19 23:31:02+00:00</td>\n",
       "      <td>0.6369</td>\n",
       "      <td>Positive</td>\n",
       "    </tr>\n",
       "    <tr>\n",
       "      <th>1</th>\n",
       "      <td>Walter Tunnel</td>\n",
       "      <td>2024-10-09 22:33:59+00:00</td>\n",
       "      <td>0.0000</td>\n",
       "      <td>Neutral</td>\n",
       "    </tr>\n",
       "    <tr>\n",
       "      <th>2</th>\n",
       "      <td>2:30 if you dont feel it like this guy i feel ...</td>\n",
       "      <td>2024-10-08 03:22:21+00:00</td>\n",
       "      <td>-0.6818</td>\n",
       "      <td>Negative</td>\n",
       "    </tr>\n",
       "    <tr>\n",
       "      <th>3</th>\n",
       "      <td>You’re so wonderful, Sir!</td>\n",
       "      <td>2024-09-24 05:28:03+00:00</td>\n",
       "      <td>0.6468</td>\n",
       "      <td>Positive</td>\n",
       "    </tr>\n",
       "    <tr>\n",
       "      <th>4</th>\n",
       "      <td>BEST PRESIDENT EVER PRESIDENT TRUMP2024🇺🇸❤️🦅</td>\n",
       "      <td>2024-09-24 03:43:35+00:00</td>\n",
       "      <td>0.7125</td>\n",
       "      <td>Positive</td>\n",
       "    </tr>\n",
       "  </tbody>\n",
       "</table>\n",
       "</div>"
      ],
      "text/plain": [
       "                                             Comment  \\\n",
       "0                                       I LOVE TRUMP   \n",
       "1                                      Walter Tunnel   \n",
       "2  2:30 if you dont feel it like this guy i feel ...   \n",
       "3                          You’re so wonderful, Sir!   \n",
       "4       BEST PRESIDENT EVER PRESIDENT TRUMP2024🇺🇸❤️🦅   \n",
       "\n",
       "                  timestamp  sentiment sentiment_label  \n",
       "0 2024-10-19 23:31:02+00:00     0.6369        Positive  \n",
       "1 2024-10-09 22:33:59+00:00     0.0000         Neutral  \n",
       "2 2024-10-08 03:22:21+00:00    -0.6818        Negative  \n",
       "3 2024-09-24 05:28:03+00:00     0.6468        Positive  \n",
       "4 2024-09-24 03:43:35+00:00     0.7125        Positive  "
      ]
     },
     "execution_count": 426,
     "metadata": {},
     "output_type": "execute_result"
    }
   ],
   "source": [
    "gop2024.head()"
   ]
  },
  {
   "cell_type": "code",
   "execution_count": 428,
   "id": "381a73ff-4c24-49fc-8cf9-9cd90ac465ef",
   "metadata": {},
   "outputs": [
    {
     "data": {
      "text/plain": [
       "0.06574532149712091"
      ]
     },
     "execution_count": 428,
     "metadata": {},
     "output_type": "execute_result"
    }
   ],
   "source": [
    "gop2024['sentiment'].mean()"
   ]
  },
  {
   "cell_type": "markdown",
   "id": "aa6f0ae3-f0ea-4a96-b884-5f20da29c00c",
   "metadata": {},
   "source": [
    "### Observations\n",
    "\n",
    "**2016:** While the mean sentiment for both the Republican and Democratic parties was generally neutral, a closer examination revealed slightly more positive and less negative sentiment toward the Republican Party.\n",
    "\n",
    "**2020:** Sentiment toward both parties was relatively balanced, with no significant difference in mean sentiment scores.\n",
    "\n",
    "**2024:** In 2024, the mean sentiment was markedly more positive for the Republican Party—approximately 66%—compared to the Democratic Party. This aligns well with the actual election outcome, in which Donald Trump and the GOP secured a decisive victory."
   ]
  },
  {
   "cell_type": "code",
   "execution_count": null,
   "id": "e3c2be0e-11fa-4027-b79b-cf3bd502bdb2",
   "metadata": {},
   "outputs": [],
   "source": []
  },
  {
   "cell_type": "code",
   "execution_count": null,
   "id": "b056a513-21b8-4ea0-90a8-354bf4cd812c",
   "metadata": {},
   "outputs": [],
   "source": []
  }
 ],
 "metadata": {
  "kernelspec": {
   "display_name": "Python [conda env:base] *",
   "language": "python",
   "name": "conda-base-py"
  },
  "language_info": {
   "codemirror_mode": {
    "name": "ipython",
    "version": 3
   },
   "file_extension": ".py",
   "mimetype": "text/x-python",
   "name": "python",
   "nbconvert_exporter": "python",
   "pygments_lexer": "ipython3",
   "version": "3.12.7"
  }
 },
 "nbformat": 4,
 "nbformat_minor": 5
}
